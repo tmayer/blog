{
 "cells": [
  {
   "cell_type": "markdown",
   "metadata": {
    "colab": {},
    "colab_type": "code",
    "id": "WGwz4PsLxuEd"
   },
   "source": [
    "# User and Item Based Filtering\n",
    "> Two different ways to do collaborative filtering\n",
    "\n",
    "- toc: true \n",
    "- badges: true\n",
    "- comments: true\n",
    "- search_exclude: false\n",
    "- categories: [machinelearning]"
   ]
  },
  {
   "cell_type": "markdown",
   "metadata": {
    "colab_type": "text",
    "id": "rfTJL6klyKbs"
   },
   "source": [
    "Collaborative Filtering is a method in recommendation systems that searches for similar objects in order to create a ranked list of suggestions. In general, we distinguish between two different approaches:\n",
    "\n",
    "- User-based filtering: we first identify the most similar users to the one for whom we want to give recommendations.\n",
    "- Item-based filtering: we first search for the most similar items to the ones that are most relevant to the user (e.g., most liked by the user)\n",
    "\n",
    "We will look at both approaches and discuss their advantages. This blog post is very much inspired by Chapter 2 of Toby Segaran's classic book \"Programming Collective Intelligence\" (O'Reilly, 2007)."
   ]
  },
  {
   "cell_type": "markdown",
   "metadata": {
    "colab_type": "text",
    "id": "OefoDd7_nWxV"
   },
   "source": [
    "## Data\n",
    "\n",
    "For our discussion we need some recommendation data. There are several ways of expressing a user's preference, such as binary distinctions (booked a hotel vs. didn't book the hotel) or more explicit feedback in the form of graded reviews.\n",
    "\n",
    "We take the exemplary data below (taken from Segaran's book) and compute the recommendations using the Pandas library. "
   ]
  },
  {
   "cell_type": "code",
   "execution_count": 2,
   "metadata": {
    "ExecuteTime": {
     "end_time": "2020-06-21T12:36:18.086925Z",
     "start_time": "2020-06-21T12:36:18.081144Z"
    },
    "colab": {},
    "colab_type": "code",
    "id": "8KmWM2yOnait"
   },
   "outputs": [],
   "source": [
    "critics={'Lisa Rose': {'Lady in the Water': 2.5, 'Snakes on a Plane': 3.5,\n",
    "      'Just My Luck': 3.0, 'Superman Returns': 3.5, 'You, Me and Dupree': 2.5,\n",
    "      'The Night Listener': 3.0},\n",
    "     'Gene Seymour': {'Lady in the Water': 3.0, 'Snakes on a Plane': 3.5,\n",
    "      'Just My Luck': 1.5, 'Superman Returns': 5.0, 'The Night Listener': 3.0,\n",
    "      'You, Me and Dupree': 3.5},\n",
    "     'Michael Phillips': {'Lady in the Water': 2.5, 'Snakes on a Plane': 3.0,\n",
    "      'Superman Returns': 3.5, 'The Night Listener': 4.0},\n",
    "     'Claudia Puig': {'Snakes on a Plane': 3.5, 'Just My Luck': 3.0,\n",
    "      'The Night Listener': 4.5, 'Superman Returns': 4.0,\n",
    "      'You, Me and Dupree': 2.5},\n",
    "     'Mick LaSalle': {'Lady in the Water': 3.0, 'Snakes on a Plane': 4.0,\n",
    "      'Just My Luck': 2.0, 'Superman Returns': 3.0, 'The Night Listener': 3.0,\n",
    "      'You, Me and Dupree': 2.0},\n",
    "     'Jack Matthews': {'Lady in the Water': 3.0, 'Snakes on a Plane': 4.0,\n",
    "      'The Night Listener': 3.0, 'Superman Returns': 5.0, 'You, Me and Dupree': 3.5},\n",
    "     'Toby': {'Snakes on a Plane':4.5,'You, Me and Dupree':1.0,'Superman Returns':4.0}\n",
    "}"
   ]
  },
  {
   "cell_type": "code",
   "execution_count": 3,
   "metadata": {
    "ExecuteTime": {
     "end_time": "2020-06-21T12:36:18.095294Z",
     "start_time": "2020-06-21T12:36:18.089560Z"
    },
    "colab": {},
    "colab_type": "code",
    "id": "RfWHhEL0ncs6"
   },
   "outputs": [],
   "source": [
    "import pandas as pd\n",
    "critics = pd.DataFrame(critics).T"
   ]
  },
  {
   "cell_type": "code",
   "execution_count": 4,
   "metadata": {
    "ExecuteTime": {
     "end_time": "2020-06-21T12:36:18.124357Z",
     "start_time": "2020-06-21T12:36:18.098418Z"
    },
    "colab": {
     "base_uri": "https://localhost:8080/",
     "height": 266
    },
    "colab_type": "code",
    "id": "UmzpvTeTnk2O",
    "outputId": "0459f5f0-d95e-42e9-a890-a5756595bf56"
   },
   "outputs": [
    {
     "data": {
      "text/html": [
       "<div>\n",
       "<style scoped>\n",
       "    .dataframe tbody tr th:only-of-type {\n",
       "        vertical-align: middle;\n",
       "    }\n",
       "\n",
       "    .dataframe tbody tr th {\n",
       "        vertical-align: top;\n",
       "    }\n",
       "\n",
       "    .dataframe thead th {\n",
       "        text-align: right;\n",
       "    }\n",
       "</style>\n",
       "<table border=\"1\" class=\"dataframe\">\n",
       "  <thead>\n",
       "    <tr style=\"text-align: right;\">\n",
       "      <th></th>\n",
       "      <th>Lady in the Water</th>\n",
       "      <th>Snakes on a Plane</th>\n",
       "      <th>Just My Luck</th>\n",
       "      <th>Superman Returns</th>\n",
       "      <th>You, Me and Dupree</th>\n",
       "      <th>The Night Listener</th>\n",
       "    </tr>\n",
       "  </thead>\n",
       "  <tbody>\n",
       "    <tr>\n",
       "      <th>Lisa Rose</th>\n",
       "      <td>2.5</td>\n",
       "      <td>3.5</td>\n",
       "      <td>3.0</td>\n",
       "      <td>3.5</td>\n",
       "      <td>2.5</td>\n",
       "      <td>3.0</td>\n",
       "    </tr>\n",
       "    <tr>\n",
       "      <th>Gene Seymour</th>\n",
       "      <td>3.0</td>\n",
       "      <td>3.5</td>\n",
       "      <td>1.5</td>\n",
       "      <td>5.0</td>\n",
       "      <td>3.5</td>\n",
       "      <td>3.0</td>\n",
       "    </tr>\n",
       "    <tr>\n",
       "      <th>Michael Phillips</th>\n",
       "      <td>2.5</td>\n",
       "      <td>3.0</td>\n",
       "      <td>NaN</td>\n",
       "      <td>3.5</td>\n",
       "      <td>NaN</td>\n",
       "      <td>4.0</td>\n",
       "    </tr>\n",
       "    <tr>\n",
       "      <th>Claudia Puig</th>\n",
       "      <td>NaN</td>\n",
       "      <td>3.5</td>\n",
       "      <td>3.0</td>\n",
       "      <td>4.0</td>\n",
       "      <td>2.5</td>\n",
       "      <td>4.5</td>\n",
       "    </tr>\n",
       "    <tr>\n",
       "      <th>Mick LaSalle</th>\n",
       "      <td>3.0</td>\n",
       "      <td>4.0</td>\n",
       "      <td>2.0</td>\n",
       "      <td>3.0</td>\n",
       "      <td>2.0</td>\n",
       "      <td>3.0</td>\n",
       "    </tr>\n",
       "    <tr>\n",
       "      <th>Jack Matthews</th>\n",
       "      <td>3.0</td>\n",
       "      <td>4.0</td>\n",
       "      <td>NaN</td>\n",
       "      <td>5.0</td>\n",
       "      <td>3.5</td>\n",
       "      <td>3.0</td>\n",
       "    </tr>\n",
       "    <tr>\n",
       "      <th>Toby</th>\n",
       "      <td>NaN</td>\n",
       "      <td>4.5</td>\n",
       "      <td>NaN</td>\n",
       "      <td>4.0</td>\n",
       "      <td>1.0</td>\n",
       "      <td>NaN</td>\n",
       "    </tr>\n",
       "  </tbody>\n",
       "</table>\n",
       "</div>"
      ],
      "text/plain": [
       "                  Lady in the Water  Snakes on a Plane  Just My Luck  \\\n",
       "Lisa Rose                       2.5                3.5           3.0   \n",
       "Gene Seymour                    3.0                3.5           1.5   \n",
       "Michael Phillips                2.5                3.0           NaN   \n",
       "Claudia Puig                    NaN                3.5           3.0   \n",
       "Mick LaSalle                    3.0                4.0           2.0   \n",
       "Jack Matthews                   3.0                4.0           NaN   \n",
       "Toby                            NaN                4.5           NaN   \n",
       "\n",
       "                  Superman Returns  You, Me and Dupree  The Night Listener  \n",
       "Lisa Rose                      3.5                 2.5                 3.0  \n",
       "Gene Seymour                   5.0                 3.5                 3.0  \n",
       "Michael Phillips               3.5                 NaN                 4.0  \n",
       "Claudia Puig                   4.0                 2.5                 4.5  \n",
       "Mick LaSalle                   3.0                 2.0                 3.0  \n",
       "Jack Matthews                  5.0                 3.5                 3.0  \n",
       "Toby                           4.0                 1.0                 NaN  "
      ]
     },
     "execution_count": 4,
     "metadata": {},
     "output_type": "execute_result"
    }
   ],
   "source": [
    "critics"
   ]
  },
  {
   "cell_type": "markdown",
   "metadata": {
    "colab_type": "text",
    "id": "e5dJmZe35vMx"
   },
   "source": [
    "The data frame shows our toy data set as an input for recommendations. Usually, the matrix is much bigger and way more sparse. Yet, it illustrates the fact that some users (such as Toby) haven't rated (and thus might not have seen) all the movies. We would like to get a ranking of the missing movies so that we can recommend the movie which most likely fits to their preferences.\n",
    "\n",
    "In the collaborative filtering approach (be it user or item based), there are the two main steps to get to this ranking (here illustrated with the user-based approach for our movie toy data set):\n",
    "\n",
    "1. Define a similarity between objects (either users or items). This step is different from user and item based recommenders and gives them their respective names. In the user-based approach, the similarity is defined in terms of how the users rated the movies. If users give the same or a very similar rating to the same movie, they are considered more similar than if they give very different ratings. We will see below how we can quantify this to arrive at a similarity matrix between users.\n",
    "2. The second step takes the previously defined similarity metric and uses it to compute a weighted average to obtain the final recommendation scores. Once we identified a similarity among users, we will check all the missing movies and weigh the ratings that the other users gave depending on their similarity to the user at hand. \n",
    "\n",
    "# User-based Filtering\n",
    "\n",
    "Now we want to go through the different steps for user-based filtering and compute the similarities and rankings. \n",
    "\n",
    "## Step 1: Identify similar users\n",
    "\n",
    "There are multiple ways to define the similarity among users based on the ratings they gave to the movies. However, there is one particular method that is easy to understand and visualize: the **Euclidean Distance** score.\n",
    "\n",
    "For the sake of simplicity, let's reduce the number of movies in our dataset to two: \n",
    "\n",
    "1. Snakes on a Plane\n",
    "1. You, Me and Dupree\n",
    "\n",
    "The ratings for the two movies constitute the features on which the users can be compared. A two-dimenstional visualization would look like this:"
   ]
  },
  {
   "cell_type": "code",
   "execution_count": 16,
   "metadata": {},
   "outputs": [
    {
     "data": {
      "image/png": "[encoded data removed]",
      "text/plain": [
       "<Figure size 576x576 with 1 Axes>"
      ]
     },
     "metadata": {},
     "output_type": "display_data"
    }
   ],
   "source": [
    "# Euclidean distance example\n",
    "import matplotlib.pyplot as plt\n",
    "import numpy as np\n",
    "\n",
    "with plt.xkcd():\n",
    "    fig, ax = plt.subplots(figsize=(8,8))\n",
    "    xaxis = 'You, Me and Dupree'\n",
    "    yaxis = 'Snakes on a Plane'\n",
    "    critics[[xaxis, yaxis]].plot(kind='scatter', x=xaxis, y=yaxis, ax=ax, xlim=(0,5), ylim=(2.5,5), alpha=0);\n",
    "\n",
    "    # annotate the labels\n",
    "\n",
    "    for label in critics.index.values:\n",
    "      xval, yval = critics.loc[label, [xaxis, yaxis]]\n",
    "      if label == 'Lisa Rose': # make sure that labels don't overlap\n",
    "            yval -= 0.1\n",
    "      ax.annotate(label, (xval, yval))"
   ]
  },
  {
   "cell_type": "markdown",
   "metadata": {},
   "source": [
    "As you can see, Claudia Puig and Lisa Rose are pretty close to each other (actually, they overlap as they have exactly the same values for both features) while Toby and Gene Seymour are most dissimilar. Although the two-dimensional plot nicely shows the differences between users for these two movies, there are two problems:\n",
    "\n",
    "1. there are more than two movies, hence we need a higher dimensional plot (which would be hard to visualize)\n",
    "1. it is hard to compare all the users to each other; it would be preferable to have a single (similarity or distance) score.\n",
    "\n",
    "To this end, we compute the Euclidean distance score. It is best explained in the two-dimensional case above, however, it can easily be extended to higher dimensional cases. As we all learned in high-school geometry, you can compute the distance of two points in a two-dimensional space if you compute the following steps:\n",
    "\n",
    "1. compute the distance between the points on each axis and square it\n",
    "1. take the sum of the distances from all axes\n",
    "1. take the square root of the total sum\n",
    "\n",
    "Since this defines a distance function, yet we need a similarity score we just use the Euclidean score, add 1 to it (so not to run into any division-by-zero error) and invert it. The final function looks as follows. Note that we didn't take the square root (to get the same results as in Segaran's book). The square root doesn't change anything in the order of the similarities/distances and thus can be ignored for our purposes."
   ]
  },
  {
   "cell_type": "code",
   "execution_count": 17,
   "metadata": {
    "ExecuteTime": {
     "end_time": "2020-06-21T12:36:18.147966Z",
     "start_time": "2020-06-21T12:36:18.144178Z"
    },
    "colab": {},
    "colab_type": "code",
    "id": "T36fKIhoiQUR"
   },
   "outputs": [],
   "source": [
    "import numpy as np\n",
    "\n",
    "def euclidean(a, b):\n",
    "  eucl = np.square(a-b).sum()\n",
    "  return 1/(1+eucl)"
   ]
  },
  {
   "cell_type": "markdown",
   "metadata": {},
   "source": [
    "In Pandas, there is a very convenient way to get the pairwise results for a function like the `euclidean()` above for a data frame by using the `corr()` method and specify your own method (in this case just giving the function name `euclidean` as the parameter `method`). You just have to decide for which items in our data frame the correlation \n",
    "should be computed, for the users or the movies. In our case, we're interested in the users, that's why \n",
    "we have to transpose the data frame first (by using the `.T` shortcut, i.e., `critics.T`) before applying the correlation method."
   ]
  },
  {
   "cell_type": "code",
   "execution_count": 19,
   "metadata": {
    "ExecuteTime": {
     "end_time": "2020-06-21T12:36:18.141205Z",
     "start_time": "2020-06-21T12:36:18.126489Z"
    },
    "colab": {
     "base_uri": "https://localhost:8080/",
     "height": 266
    },
    "colab_type": "code",
    "id": "rraSGNcV1f9o",
    "outputId": "e77ff478-eb7d-48e1-ac48-63e47344ba57"
   },
   "outputs": [
    {
     "data": {
      "text/html": [
       "<div>\n",
       "<style scoped>\n",
       "    .dataframe tbody tr th:only-of-type {\n",
       "        vertical-align: middle;\n",
       "    }\n",
       "\n",
       "    .dataframe tbody tr th {\n",
       "        vertical-align: top;\n",
       "    }\n",
       "\n",
       "    .dataframe thead th {\n",
       "        text-align: right;\n",
       "    }\n",
       "</style>\n",
       "<table border=\"1\" class=\"dataframe\">\n",
       "  <thead>\n",
       "    <tr style=\"text-align: right;\">\n",
       "      <th></th>\n",
       "      <th>Lisa Rose</th>\n",
       "      <th>Gene Seymour</th>\n",
       "      <th>Michael Phillips</th>\n",
       "      <th>Claudia Puig</th>\n",
       "      <th>Mick LaSalle</th>\n",
       "      <th>Jack Matthews</th>\n",
       "      <th>Toby</th>\n",
       "    </tr>\n",
       "  </thead>\n",
       "  <tbody>\n",
       "    <tr>\n",
       "      <th>Lisa Rose</th>\n",
       "      <td>1.000000</td>\n",
       "      <td>0.148148</td>\n",
       "      <td>0.444444</td>\n",
       "      <td>0.285714</td>\n",
       "      <td>0.333333</td>\n",
       "      <td>0.210526</td>\n",
       "      <td>0.222222</td>\n",
       "    </tr>\n",
       "    <tr>\n",
       "      <th>Gene Seymour</th>\n",
       "      <td>0.148148</td>\n",
       "      <td>1.000000</td>\n",
       "      <td>0.210526</td>\n",
       "      <td>0.133333</td>\n",
       "      <td>0.129032</td>\n",
       "      <td>0.800000</td>\n",
       "      <td>0.108108</td>\n",
       "    </tr>\n",
       "    <tr>\n",
       "      <th>Michael Phillips</th>\n",
       "      <td>0.444444</td>\n",
       "      <td>0.210526</td>\n",
       "      <td>1.000000</td>\n",
       "      <td>0.571429</td>\n",
       "      <td>0.285714</td>\n",
       "      <td>0.181818</td>\n",
       "      <td>0.285714</td>\n",
       "    </tr>\n",
       "    <tr>\n",
       "      <th>Claudia Puig</th>\n",
       "      <td>0.285714</td>\n",
       "      <td>0.133333</td>\n",
       "      <td>0.571429</td>\n",
       "      <td>1.000000</td>\n",
       "      <td>0.173913</td>\n",
       "      <td>0.181818</td>\n",
       "      <td>0.235294</td>\n",
       "    </tr>\n",
       "    <tr>\n",
       "      <th>Mick LaSalle</th>\n",
       "      <td>0.333333</td>\n",
       "      <td>0.129032</td>\n",
       "      <td>0.285714</td>\n",
       "      <td>0.173913</td>\n",
       "      <td>1.000000</td>\n",
       "      <td>0.137931</td>\n",
       "      <td>0.307692</td>\n",
       "    </tr>\n",
       "    <tr>\n",
       "      <th>Jack Matthews</th>\n",
       "      <td>0.210526</td>\n",
       "      <td>0.800000</td>\n",
       "      <td>0.181818</td>\n",
       "      <td>0.181818</td>\n",
       "      <td>0.137931</td>\n",
       "      <td>1.000000</td>\n",
       "      <td>0.117647</td>\n",
       "    </tr>\n",
       "    <tr>\n",
       "      <th>Toby</th>\n",
       "      <td>0.222222</td>\n",
       "      <td>0.108108</td>\n",
       "      <td>0.285714</td>\n",
       "      <td>0.235294</td>\n",
       "      <td>0.307692</td>\n",
       "      <td>0.117647</td>\n",
       "      <td>1.000000</td>\n",
       "    </tr>\n",
       "  </tbody>\n",
       "</table>\n",
       "</div>"
      ],
      "text/plain": [
       "                  Lisa Rose  Gene Seymour  Michael Phillips  Claudia Puig  \\\n",
       "Lisa Rose          1.000000      0.148148          0.444444      0.285714   \n",
       "Gene Seymour       0.148148      1.000000          0.210526      0.133333   \n",
       "Michael Phillips   0.444444      0.210526          1.000000      0.571429   \n",
       "Claudia Puig       0.285714      0.133333          0.571429      1.000000   \n",
       "Mick LaSalle       0.333333      0.129032          0.285714      0.173913   \n",
       "Jack Matthews      0.210526      0.800000          0.181818      0.181818   \n",
       "Toby               0.222222      0.108108          0.285714      0.235294   \n",
       "\n",
       "                  Mick LaSalle  Jack Matthews      Toby  \n",
       "Lisa Rose             0.333333       0.210526  0.222222  \n",
       "Gene Seymour          0.129032       0.800000  0.108108  \n",
       "Michael Phillips      0.285714       0.181818  0.285714  \n",
       "Claudia Puig          0.173913       0.181818  0.235294  \n",
       "Mick LaSalle          1.000000       0.137931  0.307692  \n",
       "Jack Matthews         0.137931       1.000000  0.117647  \n",
       "Toby                  0.307692       0.117647  1.000000  "
      ]
     },
     "execution_count": 19,
     "metadata": {},
     "output_type": "execute_result"
    }
   ],
   "source": [
    "critics.T.corr(method=euclidean)"
   ]
  },
  {
   "cell_type": "markdown",
   "metadata": {
    "colab_type": "text",
    "id": "MwmuYtVjl6HF"
   },
   "source": [
    "As can be seen in the resulting matrix, some users are more similar to each other than others. For example, users Gene Seymour and Jack Matthews are pretty close to each other (0.8). In fact, except for \"Snakes on a Plane\" they gave the exact same ratings to all movies that they both watched. \n",
    "\n",
    "On the other hand, users Gene Seymour and Toby are most dissimilar (with a distance score of 0.108). This is due to the fact that they have only three movies that they both gave ratings to and those three movies have comparatively big differences."
   ]
  },
  {
   "cell_type": "code",
   "execution_count": 21,
   "metadata": {},
   "outputs": [
    {
     "data": {
      "text/html": [
       "<div>\n",
       "<style scoped>\n",
       "    .dataframe tbody tr th:only-of-type {\n",
       "        vertical-align: middle;\n",
       "    }\n",
       "\n",
       "    .dataframe tbody tr th {\n",
       "        vertical-align: top;\n",
       "    }\n",
       "\n",
       "    .dataframe thead th {\n",
       "        text-align: right;\n",
       "    }\n",
       "</style>\n",
       "<table border=\"1\" class=\"dataframe\">\n",
       "  <thead>\n",
       "    <tr style=\"text-align: right;\">\n",
       "      <th></th>\n",
       "      <th>Lady in the Water</th>\n",
       "      <th>Snakes on a Plane</th>\n",
       "      <th>Just My Luck</th>\n",
       "      <th>Superman Returns</th>\n",
       "      <th>You, Me and Dupree</th>\n",
       "      <th>The Night Listener</th>\n",
       "    </tr>\n",
       "  </thead>\n",
       "  <tbody>\n",
       "    <tr>\n",
       "      <th>Jack Matthews</th>\n",
       "      <td>3.0</td>\n",
       "      <td>4.0</td>\n",
       "      <td>NaN</td>\n",
       "      <td>5.0</td>\n",
       "      <td>3.5</td>\n",
       "      <td>3.0</td>\n",
       "    </tr>\n",
       "    <tr>\n",
       "      <th>Gene Seymour</th>\n",
       "      <td>3.0</td>\n",
       "      <td>3.5</td>\n",
       "      <td>1.5</td>\n",
       "      <td>5.0</td>\n",
       "      <td>3.5</td>\n",
       "      <td>3.0</td>\n",
       "    </tr>\n",
       "    <tr>\n",
       "      <th>Toby</th>\n",
       "      <td>NaN</td>\n",
       "      <td>4.5</td>\n",
       "      <td>NaN</td>\n",
       "      <td>4.0</td>\n",
       "      <td>1.0</td>\n",
       "      <td>NaN</td>\n",
       "    </tr>\n",
       "  </tbody>\n",
       "</table>\n",
       "</div>"
      ],
      "text/plain": [
       "               Lady in the Water  Snakes on a Plane  Just My Luck  \\\n",
       "Jack Matthews                3.0                4.0           NaN   \n",
       "Gene Seymour                 3.0                3.5           1.5   \n",
       "Toby                         NaN                4.5           NaN   \n",
       "\n",
       "               Superman Returns  You, Me and Dupree  The Night Listener  \n",
       "Jack Matthews               5.0                 3.5                 3.0  \n",
       "Gene Seymour                5.0                 3.5                 3.0  \n",
       "Toby                        4.0                 1.0                 NaN  "
      ]
     },
     "execution_count": 21,
     "metadata": {},
     "output_type": "execute_result"
    }
   ],
   "source": [
    "critics.loc[['Jack Matthews', 'Gene Seymour', 'Toby']]"
   ]
  },
  {
   "cell_type": "markdown",
   "metadata": {
    "colab_type": "text",
    "id": "AGgi7LCYOswF"
   },
   "source": [
    "## Ranking the critics\n",
    "\n",
    "With the Euclidean similarity matrix we can compute a ranking of critics for each user. To this end, we define the function `top_matches` that makes use of the `corr()` method of data frames for the similary scores. To get a proper similarity ranking, we first identify all users other than the one under investigation and return a Pandas Series that is created by indexing the similarity matrix for the respective user. Finally, the series is sorted in reverse order to return the top similar users."
   ]
  },
  {
   "cell_type": "code",
   "execution_count": 22,
   "metadata": {
    "ExecuteTime": {
     "end_time": "2020-06-21T12:36:18.173520Z",
     "start_time": "2020-06-21T12:36:18.168885Z"
    },
    "colab": {},
    "colab_type": "code",
    "id": "SPXWgD901CcA"
   },
   "outputs": [],
   "source": [
    "def top_matches(critics, person, n=10, method=euclidean):\n",
    "  other_people = [p for p in critics.T.columns if p != person]\n",
    "  corr_persons = critics.T.corr(method=method)\n",
    "  scores = corr_persons.loc[other_people, person]\n",
    "  scores.sort_values(ascending=False, inplace=True)\n",
    "  return scores.head(n)\n"
   ]
  },
  {
   "cell_type": "markdown",
   "metadata": {
    "colab_type": "text",
    "id": "OjUu0u3aDPE-"
   },
   "source": [
    "The most similar user to Toby is Mick LaSalle, showing a similarity value of 0.307, whereas the least similar is Gene Seymour (as discussed above)."
   ]
  },
  {
   "cell_type": "code",
   "execution_count": 24,
   "metadata": {
    "ExecuteTime": {
     "end_time": "2020-06-21T12:36:18.189885Z",
     "start_time": "2020-06-21T12:36:18.177372Z"
    },
    "colab": {
     "base_uri": "https://localhost:8080/",
     "height": 136
    },
    "colab_type": "code",
    "id": "gkeIkqhFNK2d",
    "outputId": "eb3b3999-4dc5-4cea-c55d-f8c73e549933"
   },
   "outputs": [
    {
     "data": {
      "text/plain": [
       "Mick LaSalle        0.307692\n",
       "Michael Phillips    0.285714\n",
       "Claudia Puig        0.235294\n",
       "Lisa Rose           0.222222\n",
       "Jack Matthews       0.117647\n",
       "Gene Seymour        0.108108\n",
       "Name: Toby, dtype: float64"
      ]
     },
     "execution_count": 24,
     "metadata": {},
     "output_type": "execute_result"
    }
   ],
   "source": [
    "top_matches(critics, 'Toby')"
   ]
  },
  {
   "cell_type": "markdown",
   "metadata": {},
   "source": [
    "## Step 2: Recommending Items\n",
    "\n",
    "Having defined the similarity of users, we can move to the second step: how to compute the actual recommendations for user Toby. For this, we first select those movies in our toy dataset that Toby hasn't ranked yet (assuming he hasn't watched them either). These missing movies are the basis for our recommendations. All we need to do now is rank them in the appropriate order so that the movie that we assume he would rate highest comes up first in our ranking.\n",
    "\n",
    "This begs the question how we make the predictions. The basic idea is pretty simple: we take the ratings from other users for the missing movies and compute the weighted average of the rankings for each movie. But where do we take the weights from? It's very easy. We take advantage of the similarities that we worked out above. Thus, the final score for each movie (for user Toby) is calculated by taking the sum of the rating times the similarity (to Toby) for each movie divided by the overall sum of the similarities."
   ]
  },
  {
   "cell_type": "markdown",
   "metadata": {},
   "source": [
    "$ score_{movie} = \\frac{\\sum_{i=1}^{users} sim_{user_i, Toby} * rating_{user_i, movie}}{\\sum_{i=1}^{users} sim_{user_i, Toby}}$"
   ]
  },
  {
   "cell_type": "markdown",
   "metadata": {
    "colab_type": "text",
    "id": "X2dtc_LWOvoY"
   },
   "source": [
    "In Pandas, we can use the `isnull()` method on the Series to identify all the missing movies for the user. We then index into the ratings data frame, extracting only those cells with similar users and missing films. For the actual computation of the scores we need two objects: \n",
    "\n",
    "1. the subset of the cells from the original data frame of ratings giving the similar users and the missing movies (`cores`)\n",
    "2. the filtered user similarities where all negatively correlated users to Toby have been discarded (`sims`)"
   ]
  },
  {
   "cell_type": "code",
   "execution_count": 25,
   "metadata": {
    "ExecuteTime": {
     "end_time": "2020-06-21T12:36:18.196798Z",
     "start_time": "2020-06-21T12:36:18.191792Z"
    },
    "colab": {},
    "colab_type": "code",
    "id": "O0mQdHhYz1Rn"
   },
   "outputs": [],
   "source": [
    "def get_recommendations(critics, person):\n",
    "  missing_films = critics.T[critics.T[person].isnull()].index.values\n",
    "  person_similarities = top_matches(critics, person, n=len(critics))\n",
    "  person_similarities = person_similarities[person_similarities > 0]\n",
    "  movies_scores = critics.loc[person_similarities.index, missing_films]\n",
    "  return movies_scores, person_similarities"
   ]
  },
  {
   "cell_type": "code",
   "execution_count": 26,
   "metadata": {
    "ExecuteTime": {
     "end_time": "2020-06-21T12:36:18.218850Z",
     "start_time": "2020-06-21T12:36:18.202470Z"
    },
    "colab": {
     "base_uri": "https://localhost:8080/",
     "height": 204
    },
    "colab_type": "code",
    "id": "P0X310tCz4gG",
    "outputId": "192f4604-491b-44a4-95f5-229741c2f79a"
   },
   "outputs": [
    {
     "data": {
      "text/html": [
       "<div>\n",
       "<style scoped>\n",
       "    .dataframe tbody tr th:only-of-type {\n",
       "        vertical-align: middle;\n",
       "    }\n",
       "\n",
       "    .dataframe tbody tr th {\n",
       "        vertical-align: top;\n",
       "    }\n",
       "\n",
       "    .dataframe thead th {\n",
       "        text-align: right;\n",
       "    }\n",
       "</style>\n",
       "<table border=\"1\" class=\"dataframe\">\n",
       "  <thead>\n",
       "    <tr style=\"text-align: right;\">\n",
       "      <th></th>\n",
       "      <th>Lady in the Water</th>\n",
       "      <th>Just My Luck</th>\n",
       "      <th>The Night Listener</th>\n",
       "    </tr>\n",
       "  </thead>\n",
       "  <tbody>\n",
       "    <tr>\n",
       "      <th>Mick LaSalle</th>\n",
       "      <td>3.0</td>\n",
       "      <td>2.0</td>\n",
       "      <td>3.0</td>\n",
       "    </tr>\n",
       "    <tr>\n",
       "      <th>Michael Phillips</th>\n",
       "      <td>2.5</td>\n",
       "      <td>NaN</td>\n",
       "      <td>4.0</td>\n",
       "    </tr>\n",
       "    <tr>\n",
       "      <th>Claudia Puig</th>\n",
       "      <td>NaN</td>\n",
       "      <td>3.0</td>\n",
       "      <td>4.5</td>\n",
       "    </tr>\n",
       "    <tr>\n",
       "      <th>Lisa Rose</th>\n",
       "      <td>2.5</td>\n",
       "      <td>3.0</td>\n",
       "      <td>3.0</td>\n",
       "    </tr>\n",
       "    <tr>\n",
       "      <th>Jack Matthews</th>\n",
       "      <td>3.0</td>\n",
       "      <td>NaN</td>\n",
       "      <td>3.0</td>\n",
       "    </tr>\n",
       "    <tr>\n",
       "      <th>Gene Seymour</th>\n",
       "      <td>3.0</td>\n",
       "      <td>1.5</td>\n",
       "      <td>3.0</td>\n",
       "    </tr>\n",
       "  </tbody>\n",
       "</table>\n",
       "</div>"
      ],
      "text/plain": [
       "                  Lady in the Water  Just My Luck  The Night Listener\n",
       "Mick LaSalle                    3.0           2.0                 3.0\n",
       "Michael Phillips                2.5           NaN                 4.0\n",
       "Claudia Puig                    NaN           3.0                 4.5\n",
       "Lisa Rose                       2.5           3.0                 3.0\n",
       "Jack Matthews                   3.0           NaN                 3.0\n",
       "Gene Seymour                    3.0           1.5                 3.0"
      ]
     },
     "execution_count": 26,
     "metadata": {},
     "output_type": "execute_result"
    }
   ],
   "source": [
    "scores, sims = get_recommendations(critics, 'Toby')\n",
    "scores"
   ]
  },
  {
   "cell_type": "code",
   "execution_count": 27,
   "metadata": {
    "ExecuteTime": {
     "end_time": "2020-06-21T12:36:18.229433Z",
     "start_time": "2020-06-21T12:36:18.222830Z"
    },
    "colab": {
     "base_uri": "https://localhost:8080/",
     "height": 119
    },
    "colab_type": "code",
    "id": "LF4UBVqskMFa",
    "outputId": "5a76cffc-3ba7-42e5-92bd-4a5b18874795"
   },
   "outputs": [
    {
     "data": {
      "text/plain": [
       "Mick LaSalle        0.307692\n",
       "Michael Phillips    0.285714\n",
       "Claudia Puig        0.235294\n",
       "Lisa Rose           0.222222\n",
       "Jack Matthews       0.117647\n",
       "Gene Seymour        0.108108\n",
       "Name: Toby, dtype: float64"
      ]
     },
     "execution_count": 27,
     "metadata": {},
     "output_type": "execute_result"
    }
   ],
   "source": [
    "sims"
   ]
  },
  {
   "cell_type": "markdown",
   "metadata": {
    "colab_type": "text",
    "id": "FBZOgAKeKlEK"
   },
   "source": [
    "With these two objects we can first compute the numerator of the final score by taking the ratings for the missing movies and multiply them by the respective user's similarity to Toby."
   ]
  },
  {
   "cell_type": "code",
   "execution_count": 28,
   "metadata": {
    "ExecuteTime": {
     "end_time": "2020-06-21T12:36:18.261786Z",
     "start_time": "2020-06-21T12:36:18.232880Z"
    },
    "colab": {
     "base_uri": "https://localhost:8080/",
     "height": 142
    },
    "colab_type": "code",
    "id": "7DPVtfhyRlTC",
    "outputId": "89e6cc38-88e8-47ba-cb45-af73061dc384"
   },
   "outputs": [
    {
     "data": {
      "text/html": [
       "<div>\n",
       "<style scoped>\n",
       "    .dataframe tbody tr th:only-of-type {\n",
       "        vertical-align: middle;\n",
       "    }\n",
       "\n",
       "    .dataframe tbody tr th {\n",
       "        vertical-align: top;\n",
       "    }\n",
       "\n",
       "    .dataframe thead th {\n",
       "        text-align: right;\n",
       "    }\n",
       "</style>\n",
       "<table border=\"1\" class=\"dataframe\">\n",
       "  <thead>\n",
       "    <tr style=\"text-align: right;\">\n",
       "      <th></th>\n",
       "      <th>Mick LaSalle</th>\n",
       "      <th>Michael Phillips</th>\n",
       "      <th>Claudia Puig</th>\n",
       "      <th>Lisa Rose</th>\n",
       "      <th>Jack Matthews</th>\n",
       "      <th>Gene Seymour</th>\n",
       "    </tr>\n",
       "  </thead>\n",
       "  <tbody>\n",
       "    <tr>\n",
       "      <th>Lady in the Water</th>\n",
       "      <td>0.923077</td>\n",
       "      <td>0.714286</td>\n",
       "      <td>NaN</td>\n",
       "      <td>0.555556</td>\n",
       "      <td>0.352941</td>\n",
       "      <td>0.324324</td>\n",
       "    </tr>\n",
       "    <tr>\n",
       "      <th>Just My Luck</th>\n",
       "      <td>0.615385</td>\n",
       "      <td>NaN</td>\n",
       "      <td>0.705882</td>\n",
       "      <td>0.666667</td>\n",
       "      <td>NaN</td>\n",
       "      <td>0.162162</td>\n",
       "    </tr>\n",
       "    <tr>\n",
       "      <th>The Night Listener</th>\n",
       "      <td>0.923077</td>\n",
       "      <td>1.142857</td>\n",
       "      <td>1.058824</td>\n",
       "      <td>0.666667</td>\n",
       "      <td>0.352941</td>\n",
       "      <td>0.324324</td>\n",
       "    </tr>\n",
       "  </tbody>\n",
       "</table>\n",
       "</div>"
      ],
      "text/plain": [
       "                    Mick LaSalle  Michael Phillips  Claudia Puig  Lisa Rose  \\\n",
       "Lady in the Water       0.923077          0.714286           NaN   0.555556   \n",
       "Just My Luck            0.615385               NaN      0.705882   0.666667   \n",
       "The Night Listener      0.923077          1.142857      1.058824   0.666667   \n",
       "\n",
       "                    Jack Matthews  Gene Seymour  \n",
       "Lady in the Water        0.352941      0.324324  \n",
       "Just My Luck                  NaN      0.162162  \n",
       "The Night Listener       0.352941      0.324324  "
      ]
     },
     "execution_count": 28,
     "metadata": {},
     "output_type": "execute_result"
    }
   ],
   "source": [
    "films_overview = scores.T * sims\n",
    "films_overview"
   ]
  },
  {
   "cell_type": "markdown",
   "metadata": {
    "colab_type": "text",
    "id": "9iW8OHfKLInq"
   },
   "source": [
    "After that, we can easily get the sum of these weighted scores for each movie."
   ]
  },
  {
   "cell_type": "code",
   "execution_count": 29,
   "metadata": {
    "ExecuteTime": {
     "end_time": "2020-06-21T12:36:18.277900Z",
     "start_time": "2020-06-21T12:36:18.266923Z"
    },
    "colab": {
     "base_uri": "https://localhost:8080/",
     "height": 85
    },
    "colab_type": "code",
    "id": "WSrD_oySXAVQ",
    "outputId": "6041db8e-d095-4a2f-8da2-097862db52f5"
   },
   "outputs": [
    {
     "data": {
      "text/plain": [
       "Lady in the Water     2.870184\n",
       "Just My Luck          2.150096\n",
       "The Night Listener    4.468690\n",
       "dtype: float64"
      ]
     },
     "execution_count": 29,
     "metadata": {},
     "output_type": "execute_result"
    }
   ],
   "source": [
    "films_overview.sum(axis=1)"
   ]
  },
  {
   "cell_type": "markdown",
   "metadata": {
    "colab_type": "text",
    "id": "bgJzZSbZLR2z"
   },
   "source": [
    "All that is left now is to compute the denominator. For this, we take the non-null ratings as a mask for the similarities. The reason for this step is to remove individual similarities from the totals if the user didn't rate the respective movie. Pandas's weak typing comes in handy at this step. The boolean return values of the `notnull()` method are turned into integers (0 for `False`), which nullify the factor for the respective user. At the end, we obtain a similarity total for each movie."
   ]
  },
  {
   "cell_type": "code",
   "execution_count": 30,
   "metadata": {
    "ExecuteTime": {
     "end_time": "2020-06-21T12:36:18.298795Z",
     "start_time": "2020-06-21T12:36:18.283291Z"
    },
    "colab": {
     "base_uri": "https://localhost:8080/",
     "height": 85
    },
    "colab_type": "code",
    "id": "l4Tlo-SkrBhh",
    "outputId": "5627cb58-9b48-4772-d410-a394b63e11d9"
   },
   "outputs": [
    {
     "data": {
      "text/plain": [
       "Lady in the Water     1.041384\n",
       "Just My Luck          0.873317\n",
       "The Night Listener    1.276678\n",
       "dtype: float64"
      ]
     },
     "execution_count": 30,
     "metadata": {},
     "output_type": "execute_result"
    }
   ],
   "source": [
    "totals = (scores.notnull().T * sims).sum(axis=1)\n",
    "totals"
   ]
  },
  {
   "cell_type": "markdown",
   "metadata": {
    "colab_type": "text",
    "id": "wSynpXAkMPu4"
   },
   "source": [
    "Finally, we can compute the actual predicted movie ratings for user Toby by taking the sums of the weighted scores and dividing them by the totals. In our toy example, the movie 'The Night Listener' gets the highest rating with 3.35 and would thus be our first choice for a recommendation to Toby."
   ]
  },
  {
   "cell_type": "code",
   "execution_count": 31,
   "metadata": {
    "ExecuteTime": {
     "end_time": "2020-06-21T12:36:18.316653Z",
     "start_time": "2020-06-21T12:36:18.304792Z"
    },
    "colab": {
     "base_uri": "https://localhost:8080/",
     "height": 85
    },
    "colab_type": "code",
    "id": "Y-sLHdyCtaDj",
    "outputId": "6f9f25bf-c15e-44b9-a4fb-75db0f0cda8f"
   },
   "outputs": [
    {
     "data": {
      "text/plain": [
       "Just My Luck          2.461988\n",
       "Lady in the Water     2.756124\n",
       "The Night Listener    3.500248\n",
       "dtype: float64"
      ]
     },
     "execution_count": 31,
     "metadata": {},
     "output_type": "execute_result"
    }
   ],
   "source": [
    "recs = films_overview.sum(axis=1) / totals\n",
    "recs.sort_values()"
   ]
  },
  {
   "cell_type": "markdown",
   "metadata": {
    "colab_type": "text",
    "id": "_f50Ykm1QNMJ"
   },
   "source": [
    "# Item-based Filtering\n",
    "\n",
    "So far, we've looked at the user similarities first to reduce the search space for our recommendations. However, this comes with a downside when your matrix of ratings includes a large number of users and shows a lot of sparsity, thus making it hard to compute similarities among users when there is little to no overlap.\n",
    "\n",
    "An alternative approach, called item-based filtering, tries to remedy these problems by dispensing with the user similarity step and searching for similar items right away (hence the name). With our toy dataframe this is very easy as we only need to apply the `corr()` method again, this time on the items and not on the users:"
   ]
  },
  {
   "cell_type": "code",
   "execution_count": 32,
   "metadata": {
    "ExecuteTime": {
     "end_time": "2020-06-21T12:36:18.339549Z",
     "start_time": "2020-06-21T12:36:18.324130Z"
    },
    "colab": {
     "base_uri": "https://localhost:8080/",
     "height": 235
    },
    "colab_type": "code",
    "id": "w8xkzqxCtwE8",
    "outputId": "708c3bae-d30a-41fd-a296-abe768511ee9"
   },
   "outputs": [
    {
     "data": {
      "text/html": [
       "<div>\n",
       "<style scoped>\n",
       "    .dataframe tbody tr th:only-of-type {\n",
       "        vertical-align: middle;\n",
       "    }\n",
       "\n",
       "    .dataframe tbody tr th {\n",
       "        vertical-align: top;\n",
       "    }\n",
       "\n",
       "    .dataframe thead th {\n",
       "        text-align: right;\n",
       "    }\n",
       "</style>\n",
       "<table border=\"1\" class=\"dataframe\">\n",
       "  <thead>\n",
       "    <tr style=\"text-align: right;\">\n",
       "      <th></th>\n",
       "      <th>Lady in the Water</th>\n",
       "      <th>Snakes on a Plane</th>\n",
       "      <th>Just My Luck</th>\n",
       "      <th>Superman Returns</th>\n",
       "      <th>You, Me and Dupree</th>\n",
       "      <th>The Night Listener</th>\n",
       "    </tr>\n",
       "  </thead>\n",
       "  <tbody>\n",
       "    <tr>\n",
       "      <th>Lady in the Water</th>\n",
       "      <td>1.000000</td>\n",
       "      <td>0.222222</td>\n",
       "      <td>0.222222</td>\n",
       "      <td>0.090909</td>\n",
       "      <td>0.400000</td>\n",
       "      <td>0.285714</td>\n",
       "    </tr>\n",
       "    <tr>\n",
       "      <th>Snakes on a Plane</th>\n",
       "      <td>0.222222</td>\n",
       "      <td>1.000000</td>\n",
       "      <td>0.105263</td>\n",
       "      <td>0.166667</td>\n",
       "      <td>0.051282</td>\n",
       "      <td>0.181818</td>\n",
       "    </tr>\n",
       "    <tr>\n",
       "      <th>Just My Luck</th>\n",
       "      <td>0.222222</td>\n",
       "      <td>0.105263</td>\n",
       "      <td>1.000000</td>\n",
       "      <td>0.064516</td>\n",
       "      <td>0.181818</td>\n",
       "      <td>0.153846</td>\n",
       "    </tr>\n",
       "    <tr>\n",
       "      <th>Superman Returns</th>\n",
       "      <td>0.090909</td>\n",
       "      <td>0.166667</td>\n",
       "      <td>0.064516</td>\n",
       "      <td>1.000000</td>\n",
       "      <td>0.053333</td>\n",
       "      <td>0.102564</td>\n",
       "    </tr>\n",
       "    <tr>\n",
       "      <th>You, Me and Dupree</th>\n",
       "      <td>0.400000</td>\n",
       "      <td>0.051282</td>\n",
       "      <td>0.181818</td>\n",
       "      <td>0.053333</td>\n",
       "      <td>1.000000</td>\n",
       "      <td>0.148148</td>\n",
       "    </tr>\n",
       "    <tr>\n",
       "      <th>The Night Listener</th>\n",
       "      <td>0.285714</td>\n",
       "      <td>0.181818</td>\n",
       "      <td>0.153846</td>\n",
       "      <td>0.102564</td>\n",
       "      <td>0.148148</td>\n",
       "      <td>1.000000</td>\n",
       "    </tr>\n",
       "  </tbody>\n",
       "</table>\n",
       "</div>"
      ],
      "text/plain": [
       "                    Lady in the Water  Snakes on a Plane  Just My Luck  \\\n",
       "Lady in the Water            1.000000           0.222222      0.222222   \n",
       "Snakes on a Plane            0.222222           1.000000      0.105263   \n",
       "Just My Luck                 0.222222           0.105263      1.000000   \n",
       "Superman Returns             0.090909           0.166667      0.064516   \n",
       "You, Me and Dupree           0.400000           0.051282      0.181818   \n",
       "The Night Listener           0.285714           0.181818      0.153846   \n",
       "\n",
       "                    Superman Returns  You, Me and Dupree  The Night Listener  \n",
       "Lady in the Water           0.090909            0.400000            0.285714  \n",
       "Snakes on a Plane           0.166667            0.051282            0.181818  \n",
       "Just My Luck                0.064516            0.181818            0.153846  \n",
       "Superman Returns            1.000000            0.053333            0.102564  \n",
       "You, Me and Dupree          0.053333            1.000000            0.148148  \n",
       "The Night Listener          0.102564            0.148148            1.000000  "
      ]
     },
     "execution_count": 32,
     "metadata": {},
     "output_type": "execute_result"
    }
   ],
   "source": [
    "critics.corr(method=euclidean)"
   ]
  },
  {
   "cell_type": "markdown",
   "metadata": {
    "colab_type": "text",
    "id": "WrIMFS33jGIs"
   },
   "source": [
    "Again, the same principles apply that we mentioned above for the user similarities. A score close to 1 indicates that the movies are very similar. For example, the movies 'Snakes on a Plane' and 'Lady in the Water' seem to be alike based on the users's ratings whereas 'Just my Luck' and 'Lady in the Water' are quite dissimilar. \n",
    "\n",
    "To compute the final recommendation scores all we need to do is to identify the missing movies of a given user (Toby) and compute a weighted average of their similarity to all movies the user has already rated together with their similarity to the missing movies."
   ]
  },
  {
   "cell_type": "code",
   "execution_count": 33,
   "metadata": {
    "ExecuteTime": {
     "end_time": "2020-06-21T12:36:18.346757Z",
     "start_time": "2020-06-21T12:36:18.342382Z"
    },
    "colab": {},
    "colab_type": "code",
    "id": "B1wImnhGjf9Y"
   },
   "outputs": [],
   "source": [
    "def get_item_recommendations(critics, person, method='pearson'):\n",
    "  missing_films = critics.T[critics.T[person].isnull()].index.values\n",
    "  movie_similarities = critics.corr(method=method)\n",
    "  movie_similarities = movie_similarities.loc[~movie_similarities.index.isin(missing_films), missing_films]\n",
    "  person_ratings = critics.loc[person, ~critics.columns.isin(missing_films)]\n",
    "  \n",
    "  return movie_similarities, person_ratings"
   ]
  },
  {
   "cell_type": "code",
   "execution_count": 34,
   "metadata": {
    "ExecuteTime": {
     "end_time": "2020-06-21T12:36:18.366405Z",
     "start_time": "2020-06-21T12:36:18.350950Z"
    },
    "colab": {
     "base_uri": "https://localhost:8080/",
     "height": 142
    },
    "colab_type": "code",
    "id": "RdEur5xOl94U",
    "outputId": "e3ea7a40-34c7-4625-e6dd-084cf8a4e406"
   },
   "outputs": [
    {
     "data": {
      "text/html": [
       "<div>\n",
       "<style scoped>\n",
       "    .dataframe tbody tr th:only-of-type {\n",
       "        vertical-align: middle;\n",
       "    }\n",
       "\n",
       "    .dataframe tbody tr th {\n",
       "        vertical-align: top;\n",
       "    }\n",
       "\n",
       "    .dataframe thead th {\n",
       "        text-align: right;\n",
       "    }\n",
       "</style>\n",
       "<table border=\"1\" class=\"dataframe\">\n",
       "  <thead>\n",
       "    <tr style=\"text-align: right;\">\n",
       "      <th></th>\n",
       "      <th>Lady in the Water</th>\n",
       "      <th>Just My Luck</th>\n",
       "      <th>The Night Listener</th>\n",
       "    </tr>\n",
       "  </thead>\n",
       "  <tbody>\n",
       "    <tr>\n",
       "      <th>Snakes on a Plane</th>\n",
       "      <td>0.222222</td>\n",
       "      <td>0.105263</td>\n",
       "      <td>0.181818</td>\n",
       "    </tr>\n",
       "    <tr>\n",
       "      <th>Superman Returns</th>\n",
       "      <td>0.090909</td>\n",
       "      <td>0.064516</td>\n",
       "      <td>0.102564</td>\n",
       "    </tr>\n",
       "    <tr>\n",
       "      <th>You, Me and Dupree</th>\n",
       "      <td>0.400000</td>\n",
       "      <td>0.181818</td>\n",
       "      <td>0.148148</td>\n",
       "    </tr>\n",
       "  </tbody>\n",
       "</table>\n",
       "</div>"
      ],
      "text/plain": [
       "                    Lady in the Water  Just My Luck  The Night Listener\n",
       "Snakes on a Plane            0.222222      0.105263            0.181818\n",
       "Superman Returns             0.090909      0.064516            0.102564\n",
       "You, Me and Dupree           0.400000      0.181818            0.148148"
      ]
     },
     "execution_count": 34,
     "metadata": {},
     "output_type": "execute_result"
    }
   ],
   "source": [
    "ms, pr = get_item_recommendations(critics, 'Toby', method=euclidean)\n",
    "ms"
   ]
  },
  {
   "cell_type": "code",
   "execution_count": 35,
   "metadata": {
    "ExecuteTime": {
     "end_time": "2020-06-21T12:36:18.377394Z",
     "start_time": "2020-06-21T12:36:18.370172Z"
    },
    "colab": {
     "base_uri": "https://localhost:8080/",
     "height": 85
    },
    "colab_type": "code",
    "id": "L1fwNBoR4N3S",
    "outputId": "c621037f-a703-42af-acfd-449ce8ddd105"
   },
   "outputs": [
    {
     "data": {
      "text/plain": [
       "Snakes on a Plane     4.5\n",
       "Superman Returns      4.0\n",
       "You, Me and Dupree    1.0\n",
       "Name: Toby, dtype: float64"
      ]
     },
     "execution_count": 35,
     "metadata": {},
     "output_type": "execute_result"
    }
   ],
   "source": [
    "pr"
   ]
  },
  {
   "cell_type": "markdown",
   "metadata": {
    "colab_type": "text",
    "id": "Y1H-muc3rEFA"
   },
   "source": [
    "Like above, we now take the missing movies and weigh them with the similarities that we defined above. The result is an item-based recommendation score that indicates which movies we should recommend next to the user (in this case Toby)."
   ]
  },
  {
   "cell_type": "code",
   "execution_count": 36,
   "metadata": {
    "ExecuteTime": {
     "end_time": "2020-06-21T12:36:18.392298Z",
     "start_time": "2020-06-21T12:36:18.380215Z"
    },
    "colab": {
     "base_uri": "https://localhost:8080/",
     "height": 85
    },
    "colab_type": "code",
    "id": "TwOYDBGvmD1D",
    "outputId": "3ae6d7e9-d6a5-4eff-ec66-dec431c1f03e"
   },
   "outputs": [
    {
     "data": {
      "text/plain": [
       "Lady in the Water     1.763636\n",
       "Just My Luck          0.913567\n",
       "The Night Listener    1.376586\n",
       "dtype: float64"
      ]
     },
     "execution_count": 36,
     "metadata": {},
     "output_type": "execute_result"
    }
   ],
   "source": [
    "(ms.T * pr).sum(axis=1)"
   ]
  },
  {
   "cell_type": "code",
   "execution_count": 37,
   "metadata": {
    "ExecuteTime": {
     "end_time": "2020-06-21T12:36:18.406633Z",
     "start_time": "2020-06-21T12:36:18.395725Z"
    },
    "colab": {
     "base_uri": "https://localhost:8080/",
     "height": 85
    },
    "colab_type": "code",
    "id": "hxTaWGspmS9y",
    "outputId": "667ebb28-eba5-4e36-f55c-b98073cb5606"
   },
   "outputs": [
    {
     "data": {
      "text/plain": [
       "Lady in the Water     2.473088\n",
       "Just My Luck          2.598332\n",
       "The Night Listener    3.182635\n",
       "dtype: float64"
      ]
     },
     "execution_count": 37,
     "metadata": {},
     "output_type": "execute_result"
    }
   ],
   "source": [
    "item_recos = (ms.T*pr).sum(axis=1) / ms.sum()\n",
    "item_recos"
   ]
  },
  {
   "cell_type": "markdown",
   "metadata": {
    "colab_type": "text",
    "id": "OOcoCjEhraSd"
   },
   "source": [
    "# User or Item-based Filtering?\n",
    "\n",
    "As shown above, user and item-based filtering mainly differ in the first step: we either have to compute similarities for users or times first. With a very large database, item-based filtering is to be preferred as it is significantly faster to compare the items for users to identify the similarities than to compare a given user to all other users"
   ]
  }
 ],
 "metadata": {
  "colab": {
   "collapsed_sections": [],
   "name": "Blog-User-vs-Item-based-recommendations.ipynb",
   "provenance": []
  },
  "kernelspec": {
   "display_name": "Python 3",
   "language": "python",
   "name": "python3"
  },
  "language_info": {
   "codemirror_mode": {
    "name": "ipython",
    "version": 3
   },
   "file_extension": ".py",
   "mimetype": "text/x-python",
   "name": "python",
   "nbconvert_exporter": "python",
   "pygments_lexer": "ipython3",
   "version": "3.7.6"
  },
  "toc": {
   "nav_menu": {},
   "number_sections": true,
   "sideBar": true,
   "skip_h1_title": false,
   "toc_cell": true,
   "toc_position": {},
   "toc_section_display": "block",
   "toc_window_display": false
  }
 },
 "nbformat": 4,
 "nbformat_minor": 1
}
