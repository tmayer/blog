{
  "nbformat": 4,
  "nbformat_minor": 0,
  "metadata": {
    "colab": {
      "name": "Softmax_Explained.ipynb",
      "provenance": [],
      "collapsed_sections": []
    },
    "kernelspec": {
      "name": "python3",
      "display_name": "Python 3"
    }
  },
  "cells": [
    {
      "cell_type": "markdown",
      "metadata": {
        "id": "AIyeblg8cpdN",
        "colab_type": "text"
      },
      "source": [
        "# Softmax Explained\n",
        "\n",
        "### Problem: \n",
        "\n",
        "Given a bunch of numbers each representing a value for a given item you want to transform them into a metric to identify the highest value with the following properties:\n",
        "\n",
        "- the resulting metric should normalize all values, that is the sum of all values should be 1\n",
        "- the metric should favor only one item among the numbers (the one with the highest original value), thus boosting it to make it stand apart more clearly\n",
        "\n",
        "### Use case:\n",
        "\n",
        "Activation function in the last layer of a classification network. Each item stands for a certain class and only one class is to be selected. In the previous layer any kind of activation can result (normally between 0 and infinity) but we want to have a normalized output at the end that tells us which class has been activated."
      ]
    },
    {
      "cell_type": "markdown",
      "metadata": {
        "id": "TZo-cT_7T6vf",
        "colab_type": "text"
      },
      "source": [
        "### Two-step approach\n",
        "\n",
        "1. Make all values positive (and boost higher values)\n",
        "2. Normalize all values so that they sum to 1."
      ]
    },
    {
      "cell_type": "code",
      "metadata": {
        "id": "DqPMngNlcj0g",
        "colab_type": "code",
        "colab": {}
      },
      "source": [
        "import numpy as np\n",
        "original_values = np.random.randn(10)"
      ],
      "execution_count": 0,
      "outputs": []
    },
    {
      "cell_type": "code",
      "metadata": {
        "id": "vxEkYpnPfAwi",
        "colab_type": "code",
        "outputId": "5b5d7ca9-e398-4236-867d-b004770ce8e3",
        "colab": {
          "base_uri": "https://localhost:8080/",
          "height": 51
        }
      },
      "source": [
        "original_values"
      ],
      "execution_count": 0,
      "outputs": [
        {
          "output_type": "execute_result",
          "data": {
            "text/plain": [
              "array([-0.15963517, -0.30992638, -1.06084824, -0.38143377, -0.05976624,\n",
              "        0.44650816, -3.53384424, -0.33987354,  1.06011392, -0.06605931])"
            ]
          },
          "metadata": {
            "tags": []
          },
          "execution_count": 127
        }
      ]
    },
    {
      "cell_type": "markdown",
      "metadata": {
        "id": "jWrR6XT8UMfK",
        "colab_type": "text"
      },
      "source": [
        "#### Step 1: Make everything positive while keeping the order of elements constant (monotonicity)\n",
        "\n",
        "There are various ways of doing it, but a very convenient one is to use each value as the power of exp"
      ]
    },
    {
      "cell_type": "code",
      "metadata": {
        "id": "rM5I018QjYej",
        "colab_type": "code",
        "colab": {}
      },
      "source": [
        "step1 = np.exp(original_values)"
      ],
      "execution_count": 0,
      "outputs": []
    },
    {
      "cell_type": "code",
      "metadata": {
        "id": "L7wleK3Sjyyr",
        "colab_type": "code",
        "outputId": "fd067f52-6c54-4aba-8712-2b80c7451f7a",
        "colab": {
          "base_uri": "https://localhost:8080/",
          "height": 51
        }
      },
      "source": [
        "step1"
      ],
      "execution_count": 0,
      "outputs": [
        {
          "output_type": "execute_result",
          "data": {
            "text/plain": [
              "array([0.85245473, 0.73350096, 0.34616206, 0.68288161, 0.9419847 ,\n",
              "       1.56284543, 0.02919248, 0.71186034, 2.88669984, 0.93607534])"
            ]
          },
          "metadata": {
            "tags": []
          },
          "execution_count": 129
        }
      ]
    },
    {
      "cell_type": "code",
      "metadata": {
        "id": "4HkcHZiSjzV5",
        "colab_type": "code",
        "colab": {}
      },
      "source": [
        "# check if the ranks in both arrays are still the same (order is preserved)\n",
        "from numpy.testing import assert_array_equal\n",
        "assert_array_equal(np.argsort(step1), np.argsort(step1))\n",
        "\n",
        "# check if all values are positive\n",
        "assert all(step1 > 0)"
      ],
      "execution_count": 0,
      "outputs": []
    },
    {
      "cell_type": "markdown",
      "metadata": {
        "id": "wPEdmn07USa-",
        "colab_type": "text"
      },
      "source": [
        "#### Step 2: Normalize the values to lie between 0 and 1. The sum of all values should be 1"
      ]
    },
    {
      "cell_type": "code",
      "metadata": {
        "id": "3nIqUfrZkCFY",
        "colab_type": "code",
        "colab": {}
      },
      "source": [
        "step2 = step1/step1.sum()"
      ],
      "execution_count": 0,
      "outputs": []
    },
    {
      "cell_type": "code",
      "metadata": {
        "id": "KFseR11FlAWP",
        "colab_type": "code",
        "outputId": "41091e95-2f34-418b-f785-2853efd9c3ea",
        "colab": {
          "base_uri": "https://localhost:8080/",
          "height": 51
        }
      },
      "source": [
        "step2"
      ],
      "execution_count": 0,
      "outputs": [
        {
          "output_type": "execute_result",
          "data": {
            "text/plain": [
              "array([0.08803024, 0.07574627, 0.03574704, 0.07051898, 0.09727571,\n",
              "       0.16139   , 0.00301461, 0.07351152, 0.29810016, 0.09666547])"
            ]
          },
          "metadata": {
            "tags": []
          },
          "execution_count": 132
        }
      ]
    },
    {
      "cell_type": "code",
      "metadata": {
        "id": "31U26hKXlBA_",
        "colab_type": "code",
        "colab": {}
      },
      "source": [
        "# check if all values are between 0 and 1\n",
        "softmax_values = step2\n",
        "assert all(0 <= softmax_values)\n",
        "assert all(softmax_values <= 1)\n",
        "\n",
        "# check if the values sum up to 1\n",
        "from numpy.testing import assert_almost_equal\n",
        "assert_almost_equal(softmax_values.sum(), 1)"
      ],
      "execution_count": 0,
      "outputs": []
    },
    {
      "cell_type": "code",
      "metadata": {
        "id": "xYMh6BNPztH-",
        "colab_type": "code",
        "outputId": "91942e83-28b2-4a8a-c124-54b028072fcc",
        "colab": {
          "base_uri": "https://localhost:8080/",
          "height": 265
        }
      },
      "source": [
        "# Plot the original_values versus the softmax values. \n",
        "# We sort both arrays in increasing order. You can see that the line for the softmax_values\n",
        "# is slightly steeper, thus indicating the boost of higher values.\n",
        "import matplotlib.pyplot as plt\n",
        "\n",
        "fig, (ax1, ax2) = plt.subplots(2, 1)\n",
        "ax1.plot(sorted(original_values));\n",
        "ax1.set(ylabel=\"Original values\");\n",
        "ax2.plot(sorted(softmax_values));\n",
        "ax2.set(ylabel=\"Softmax values\");"
      ],
      "execution_count": 0,
      "outputs": [
        {
          "output_type": "display_data",
          "data": {
            "image/png": "[encoded data removed]",
            "text/plain": [
              "<Figure size 432x288 with 2 Axes>"
            ]
          },
          "metadata": {
            "tags": [],
            "needs_background": "light"
          }
        }
      ]
    },
    {
      "cell_type": "markdown",
      "metadata": {
        "id": "Ha_LiSOr1M8a",
        "colab_type": "text"
      },
      "source": [
        "### Usage in Deep Learning frameworks\n",
        "\n",
        "All Deep Learning frameworks have softmax functions. Here we show the Keras and PyTorch versions."
      ]
    },
    {
      "cell_type": "code",
      "metadata": {
        "id": "wtnfwRNL0c4Q",
        "colab_type": "code",
        "colab": {}
      },
      "source": [
        "import keras\n",
        "from keras import backend as K\n",
        "keras_result = keras.activations.softmax(K.variable(value=original_values.reshape(1, -1)), axis=-1).numpy().flatten()"
      ],
      "execution_count": 0,
      "outputs": []
    },
    {
      "cell_type": "code",
      "metadata": {
        "id": "PqioqReE2Bz0",
        "colab_type": "code",
        "colab": {}
      },
      "source": [
        "# Since Keras's softmax function uses a different approach, the precision of the results varies\n",
        "from numpy.testing import assert_array_almost_equal\n",
        "assert_array_almost_equal(keras_result, softmax_values)"
      ],
      "execution_count": 0,
      "outputs": []
    },
    {
      "cell_type": "code",
      "metadata": {
        "id": "PuxhIbvz3DhZ",
        "colab_type": "code",
        "colab": {}
      },
      "source": [
        "import torch\n",
        "pytorch_result = torch.nn.functional.softmax(torch.tensor(original_values.reshape(1, -1)), dim=1).numpy().flatten()"
      ],
      "execution_count": 0,
      "outputs": []
    },
    {
      "cell_type": "code",
      "metadata": {
        "id": "QSDJBygU3-DF",
        "colab_type": "code",
        "outputId": "0b53f980-1d6f-4f4a-e762-363afd6cb1fa",
        "colab": {
          "base_uri": "https://localhost:8080/",
          "height": 51
        }
      },
      "source": [
        "pytorch_result"
      ],
      "execution_count": 0,
      "outputs": [
        {
          "output_type": "execute_result",
          "data": {
            "text/plain": [
              "array([0.08803024, 0.07574627, 0.03574704, 0.07051898, 0.09727571,\n",
              "       0.16139   , 0.00301461, 0.07351152, 0.29810016, 0.09666547])"
            ]
          },
          "metadata": {
            "tags": []
          },
          "execution_count": 138
        }
      ]
    },
    {
      "cell_type": "code",
      "metadata": {
        "id": "JM144wP64FxH",
        "colab_type": "code",
        "colab": {}
      },
      "source": [
        "assert_array_almost_equal(pytorch_result, softmax_values)"
      ],
      "execution_count": 0,
      "outputs": []
    },
    {
      "cell_type": "markdown",
      "metadata": {
        "id": "v2SgmaHB0FwP",
        "colab_type": "text"
      },
      "source": [
        "### Caveat\n",
        "\n",
        "Since softmax boosts the item with the highest value (winner takes it all), you shouldn't be using softmax whenever you want to have more than one element in the output (e.g., in multi-label classification scenarios)."
      ]
    },
    {
      "cell_type": "code",
      "metadata": {
        "id": "bnOhF8C-4KXc",
        "colab_type": "code",
        "colab": {}
      },
      "source": [
        ""
      ],
      "execution_count": 0,
      "outputs": []
    }
  ]
}