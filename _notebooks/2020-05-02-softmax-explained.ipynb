{
 "cells": [
  {
   "cell_type": "markdown",
   "metadata": {
    "colab_type": "text",
    "id": "AIyeblg8cpdN"
   },
   "source": [
    "# Softmax Explained\n",
    "> Understanding the standard activation function for classification.\n",
    "\n",
    "- toc: true \n",
    "- badges: true\n",
    "- comments: true\n",
    "- categories: [Deep Learning]"
   ]
  },
  {
   "cell_type": "markdown",
   "metadata": {},
   "source": [
    "## Problem\n",
    "\n",
    "Given a bunch of numbers each representing a value for a given item you want to transform them into a metric to identify the highest value with the following properties:\n",
    "\n",
    "- the resulting metric should normalize all values, that is the sum of all values should be 1\n",
    "- the metric should favor only one item among the numbers (the one with the highest original value), thus boosting it to make it stand apart more clearly\n",
    "\n",
    "## Use case\n",
    "\n",
    "Activation function in the last layer of a classification network. Each item stands for a certain class and only one class is to be selected. In the previous layer any kind of activation can result (normally between 0 and infinity) but we want to have a normalized output at the end that tells us which class has been activated."
   ]
  },
  {
   "cell_type": "markdown",
   "metadata": {
    "colab_type": "text",
    "id": "TZo-cT_7T6vf"
   },
   "source": [
    "## Two-step approach\n",
    "\n",
    "1. Make all values positive (and boost higher values)\n",
    "2. Normalize all values so that they sum to 1."
   ]
  },
  {
   "cell_type": "code",
   "execution_count": 1,
   "metadata": {
    "colab": {},
    "colab_type": "code",
    "id": "DqPMngNlcj0g"
   },
   "outputs": [],
   "source": [
    "import numpy as np\n",
    "original_values = np.random.randn(10)"
   ]
  },
  {
   "cell_type": "code",
   "execution_count": 2,
   "metadata": {
    "colab": {
     "base_uri": "https://localhost:8080/",
     "height": 51
    },
    "colab_type": "code",
    "executionInfo": {
     "elapsed": 966,
     "status": "ok",
     "timestamp": 1587029501299,
     "user": {
      "displayName": "Thommy Mayer",
      "photoUrl": "",
      "userId": "17595973901971695631"
     },
     "user_tz": -120
    },
    "id": "vxEkYpnPfAwi",
    "outputId": "5b5d7ca9-e398-4236-867d-b004770ce8e3"
   },
   "outputs": [
    {
     "data": {
      "text/plain": [
       "array([ 0.46836232, -0.7609481 ,  1.13598762,  0.55041867,  0.71270642,\n",
       "       -0.99529955,  1.3241378 ,  1.93287689,  0.43763017,  0.59186142])"
      ]
     },
     "execution_count": 2,
     "metadata": {},
     "output_type": "execute_result"
    }
   ],
   "source": [
    "original_values"
   ]
  },
  {
   "cell_type": "markdown",
   "metadata": {
    "colab_type": "text",
    "id": "jWrR6XT8UMfK"
   },
   "source": [
    "#### Step 1: Make everything positive while keeping the order of elements constant (monotonicity)\n",
    "\n",
    "There are various ways of doing it, but a very convenient one is to use each value as the power of exp"
   ]
  },
  {
   "cell_type": "code",
   "execution_count": 3,
   "metadata": {
    "colab": {},
    "colab_type": "code",
    "id": "rM5I018QjYej"
   },
   "outputs": [],
   "source": [
    "step1 = np.exp(original_values)"
   ]
  },
  {
   "cell_type": "code",
   "execution_count": 4,
   "metadata": {
    "colab": {
     "base_uri": "https://localhost:8080/",
     "height": 51
    },
    "colab_type": "code",
    "executionInfo": {
     "elapsed": 955,
     "status": "ok",
     "timestamp": 1587029501301,
     "user": {
      "displayName": "Thommy Mayer",
      "photoUrl": "",
      "userId": "17595973901971695631"
     },
     "user_tz": -120
    },
    "id": "L7wleK3Sjyyr",
    "outputId": "fd067f52-6c54-4aba-8712-2b80c7451f7a"
   },
   "outputs": [
    {
     "data": {
      "text/plain": [
       "array([1.59737606, 0.46722324, 3.1142477 , 1.73397883, 2.03950355,\n",
       "       0.36961271, 3.75894301, 6.90935916, 1.54903192, 1.80734952])"
      ]
     },
     "execution_count": 4,
     "metadata": {},
     "output_type": "execute_result"
    }
   ],
   "source": [
    "step1"
   ]
  },
  {
   "cell_type": "code",
   "execution_count": 5,
   "metadata": {
    "colab": {},
    "colab_type": "code",
    "id": "4HkcHZiSjzV5"
   },
   "outputs": [],
   "source": [
    "# check if the ranks in both arrays are still the same (order is preserved)\n",
    "from numpy.testing import assert_array_equal\n",
    "assert_array_equal(np.argsort(step1), np.argsort(step1))\n",
    "\n",
    "# check if all values are positive\n",
    "assert all(step1 > 0)"
   ]
  },
  {
   "cell_type": "markdown",
   "metadata": {
    "colab_type": "text",
    "id": "wPEdmn07USa-"
   },
   "source": [
    "#### Step 2: Normalize the values to lie between 0 and 1. The sum of all values should be 1"
   ]
  },
  {
   "cell_type": "code",
   "execution_count": 6,
   "metadata": {
    "colab": {},
    "colab_type": "code",
    "id": "3nIqUfrZkCFY"
   },
   "outputs": [],
   "source": [
    "step2 = step1/step1.sum()"
   ]
  },
  {
   "cell_type": "code",
   "execution_count": 7,
   "metadata": {
    "colab": {
     "base_uri": "https://localhost:8080/",
     "height": 51
    },
    "colab_type": "code",
    "executionInfo": {
     "elapsed": 1196,
     "status": "ok",
     "timestamp": 1587029501655,
     "user": {
      "displayName": "Thommy Mayer",
      "photoUrl": "",
      "userId": "17595973901971695631"
     },
     "user_tz": -120
    },
    "id": "KFseR11FlAWP",
    "outputId": "41091e95-2f34-418b-f785-2853efd9c3ea"
   },
   "outputs": [
    {
     "data": {
      "text/plain": [
       "array([0.06842   , 0.02001245, 0.13339177, 0.07427107, 0.08735753,\n",
       "       0.01583153, 0.16100584, 0.2959468 , 0.06634929, 0.07741374])"
      ]
     },
     "execution_count": 7,
     "metadata": {},
     "output_type": "execute_result"
    }
   ],
   "source": [
    "step2"
   ]
  },
  {
   "cell_type": "code",
   "execution_count": 8,
   "metadata": {
    "colab": {},
    "colab_type": "code",
    "id": "31U26hKXlBA_"
   },
   "outputs": [],
   "source": [
    "# check if all values are between 0 and 1\n",
    "softmax_values = step2\n",
    "assert all(0 <= softmax_values)\n",
    "assert all(softmax_values <= 1)\n",
    "\n",
    "# check if the values sum up to 1\n",
    "from numpy.testing import assert_almost_equal\n",
    "assert_almost_equal(softmax_values.sum(), 1)"
   ]
  },
  {
   "cell_type": "code",
   "execution_count": 9,
   "metadata": {
    "colab": {
     "base_uri": "https://localhost:8080/",
     "height": 265
    },
    "colab_type": "code",
    "executionInfo": {
     "elapsed": 1168,
     "status": "ok",
     "timestamp": 1587029501656,
     "user": {
      "displayName": "Thommy Mayer",
      "photoUrl": "",
      "userId": "17595973901971695631"
     },
     "user_tz": -120
    },
    "id": "xYMh6BNPztH-",
    "outputId": "91942e83-28b2-4a8a-c124-54b028072fcc"
   },
   "outputs": [
    {
     "data": {
      "image/png": "[encoded data removed]",
      "text/plain": [
       "<Figure size 432x288 with 2 Axes>"
      ]
     },
     "metadata": {
      "needs_background": "light"
     },
     "output_type": "display_data"
    }
   ],
   "source": [
    "# Plot the original_values versus the softmax values. \n",
    "# We sort both arrays in increasing order. You can see that the \n",
    "# line for the softmax_values is slightly steeper, \n",
    "# thus indicating the boost of higher values.\n",
    "import matplotlib.pyplot as plt\n",
    "\n",
    "fig, (ax1, ax2) = plt.subplots(2, 1)\n",
    "ax1.plot(sorted(original_values));\n",
    "ax1.set(ylabel=\"Original values\");\n",
    "ax2.plot(sorted(softmax_values));\n",
    "ax2.set(ylabel=\"Softmax values\");"
   ]
  },
  {
   "cell_type": "markdown",
   "metadata": {
    "colab_type": "text",
    "id": "Ha_LiSOr1M8a"
   },
   "source": [
    "### Usage in Deep Learning frameworks\n",
    "\n",
    "All Deep Learning frameworks have softmax functions. Here we show the Keras and PyTorch versions."
   ]
  },
  {
   "cell_type": "code",
   "execution_count": 10,
   "metadata": {
    "colab": {},
    "colab_type": "code",
    "id": "wtnfwRNL0c4Q"
   },
   "outputs": [
   ],
   "source": [
    "import keras\n",
    "from keras import backend as K\n",
    "keras_result = keras.activations.softmax(\n",
    "    K.variable(value=original_values.reshape(1, -1)), axis=-1).numpy().flatten()"
   ]
  },
  {
   "cell_type": "code",
   "execution_count": 11,
   "metadata": {
    "colab": {},
    "colab_type": "code",
    "id": "PqioqReE2Bz0"
   },
   "outputs": [],
   "source": [
    "# Since Keras's softmax function uses a different approach, \n",
    "# the precision of the results varies\n",
    "from numpy.testing import assert_array_almost_equal\n",
    "assert_array_almost_equal(keras_result, softmax_values)"
   ]
  },
  {
   "cell_type": "code",
   "execution_count": 12,
   "metadata": {
    "colab": {},
    "colab_type": "code",
    "id": "PuxhIbvz3DhZ"
   },
   "outputs": [],
   "source": [
    "import torch\n",
    "pytorch_result = torch.nn.functional.softmax(\n",
    "    torch.tensor(original_values.reshape(1, -1)), dim=1).numpy().flatten()"
   ]
  },
  {
   "cell_type": "code",
   "execution_count": 13,
   "metadata": {
    "colab": {
     "base_uri": "https://localhost:8080/",
     "height": 51
    },
    "colab_type": "code",
    "executionInfo": {
     "elapsed": 1066,
     "status": "ok",
     "timestamp": 1587029501658,
     "user": {
      "displayName": "Thommy Mayer",
      "photoUrl": "",
      "userId": "17595973901971695631"
     },
     "user_tz": -120
    },
    "id": "QSDJBygU3-DF",
    "outputId": "0b53f980-1d6f-4f4a-e762-363afd6cb1fa"
   },
   "outputs": [
    {
     "data": {
      "text/plain": [
       "array([0.06842   , 0.02001245, 0.13339177, 0.07427107, 0.08735753,\n",
       "       0.01583153, 0.16100584, 0.2959468 , 0.06634929, 0.07741374])"
      ]
     },
     "execution_count": 13,
     "metadata": {},
     "output_type": "execute_result"
    }
   ],
   "source": [
    "pytorch_result"
   ]
  },
  {
   "cell_type": "code",
   "execution_count": 14,
   "metadata": {
    "colab": {},
    "colab_type": "code",
    "id": "JM144wP64FxH"
   },
   "outputs": [],
   "source": [
    "assert_array_almost_equal(pytorch_result, softmax_values)"
   ]
  },
  {
   "cell_type": "markdown",
   "metadata": {
    "colab_type": "text",
    "id": "v2SgmaHB0FwP"
   },
   "source": [
    "### Caveat\n",
    "\n",
    "Since softmax boosts the item with the highest value (winner takes it all), you shouldn't be using softmax whenever you want to have more than one element in the output (e.g., in multi-label classification scenarios)."
   ]
  }
 ],
 "metadata": {
  "colab": {
   "authorship_tag": "ABX9TyNQdWH3N08iip+rUtR5MplD",
   "collapsed_sections": [],
   "name": "Softmax_Explained.ipynb",
   "provenance": []
  },
  "kernelspec": {
   "display_name": "Python 3",
   "language": "python",
   "name": "python3"
  },
  "language_info": {
   "codemirror_mode": {
    "name": "ipython",
    "version": 3
   },
   "file_extension": ".py",
   "mimetype": "text/x-python",
   "name": "python",
   "nbconvert_exporter": "python",
   "pygments_lexer": "ipython3",
   "version": "3.7.6"
  }
 },
 "nbformat": 4,
 "nbformat_minor": 4
}
